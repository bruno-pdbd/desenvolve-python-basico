{
 "cells": [
  {
   "cell_type": "markdown",
   "id": "cbdff5a5",
   "metadata": {},
   "source": [
    "# Módulo 5 - Funções\n",
    "\n",
    "## Aulas 5.2 - Funções Customizadas e 5.4 Funções ```lambda```"
   ]
  },
  {
   "cell_type": "markdown",
   "id": "28a3fee2",
   "metadata": {},
   "source": [
    "### Q1.\n",
    "\n",
    "- Sabendo que o código a seguir calcula o fatorial de n, escreva uma função chamada ```fatorial()``` que recebe um inteiro ```n``` como parâmetro e retorna o resultado do fatorial de ```n```. \n",
    "- No programa principal, peça ao usuário o valor de ```n```, chame a sua função e imprima o retorno.\n",
    "\n",
    "```python\n",
    "fat = 1\n",
    "for i in range(1, n+1):\n",
    "    fat *= i \n",
    "```"
   ]
  },
  {
   "cell_type": "code",
   "execution_count": null,
   "id": "d126b3a5",
   "metadata": {},
   "outputs": [],
   "source": [
    "## Crie aqui a função fatorial()\n",
    "## lembre-se de executar a célula para que \n",
    "## a função passe a existir e possa ser chamada\n",
    "def fatorial(n):\n",
    "    if n < 0:\n",
    "        return \"Não é possível calcular o fatorial de um número negativo.\"\n",
    "    elif n == 0 or n == 1:\n",
    "        return 1\n",
    "    else:\n",
    "        result = 1\n",
    "        for i in range(2, n + 1):\n",
    "            result *= i\n",
    "        return result"
   ]
  },
  {
   "cell_type": "code",
   "execution_count": null,
   "id": "6e4fe64e",
   "metadata": {},
   "outputs": [],
   "source": [
    "## Escreva aqui o programa principal e execute a célula\n",
    "if __name__ == \"__main__\":\n",
    "    n = int(input(\"Digite um número inteiro para calcular o fatorial: \"))\n",
    "    result = fatorial(n)\n",
    "    print(\"O fatorial de {} é: {}\".format(n,result))"
   ]
  },
  {
   "cell_type": "markdown",
   "id": "c0a1f599",
   "metadata": {},
   "source": [
    "### Q2.\n",
    "\n",
    "- Escreva uma função em Python chamada ```soma_quadrados``` que recebe dois números como parâmetros e retorna a soma dos seus quadrados. \n",
    "- No programa principal solicite ao usuário que insira dois números e utilize a função para exibir a soma dos quadrados."
   ]
  },
  {
   "cell_type": "code",
   "execution_count": null,
   "id": "6dbddaad",
   "metadata": {},
   "outputs": [],
   "source": [
    "## Crie aqui a função soma_quadrados()\n",
    "def soma_quadrados(a, b):\n",
    "    return a**2 + b**2"
   ]
  },
  {
   "cell_type": "code",
   "execution_count": null,
   "id": "9175a7da",
   "metadata": {},
   "outputs": [],
   "source": [
    "## Escreva aqui o programa principal e execute a célula\n",
    "if __name__ == \"__main__\":\n",
    "    num1 = float(input(\"Digite o primeiro número: \"))\n",
    "    num2 = float(input(\"Digite o segundo número: \"))\n",
    "    result = soma_quadrados(num1, num2)\n",
    "    print(\"A soma dos quadrados de {} e {} é: {}\".format(num1,num2,result))"
   ]
  },
  {
   "cell_type": "markdown",
   "id": "6ba34ce0",
   "metadata": {},
   "source": [
    "### Q3.\n",
    "\n",
    "- Crie uma função em Python chamada ```soma_digitos``` que recebe um número inteiro como parâmetro e retorna a soma dos seus dígitos. Por exemplo, para o número 123, a função deve retornar 6, $(1 + 2 + 3)$.\n",
    "    - O desafio aqui é separar os dígitos de um número inteiro usando operações aritméticas <br> <br>\n",
    "\n",
    "- No programa principal solicite ao usuário que insira um número e utilize a função ```soma_digitos``` para calcular e exibir a soma dos seus dígitos."
   ]
  },
  {
   "cell_type": "code",
   "execution_count": null,
   "id": "34838ebf",
   "metadata": {},
   "outputs": [],
   "source": [
    "## Crie aqui a função soma_digitos()\n",
    "def soma_digitos(n):\n",
    "    soma = 0\n",
    "    n = abs(n)\n",
    "    while n > 0:\n",
    "        soma += n % 10\n",
    "        n //= 10\n",
    "    return soma"
   ]
  },
  {
   "cell_type": "code",
   "execution_count": null,
   "id": "27c35b21",
   "metadata": {},
   "outputs": [],
   "source": [
    "## Escreva aqui o programa principal e execute a célula\n",
    "if __name__ == \"__main__\":\n",
    "    num = int(input(\"Digite um número inteiro: \"))\n",
    "    result = soma_digitos(num)\n",
    "    print(\"A soma dos dígitos de {} é: {}\".format(num,result))"
   ]
  },
  {
   "cell_type": "markdown",
   "id": "c318b159",
   "metadata": {},
   "source": [
    "### Q4.\n",
    "\n",
    "- Crie a função ```inverteValor()``` que recebe um inteiro de qualquer tamanho e retorna esse valor invertido usando apenas operações aritméticas\n",
    "- Crie a função ```verificaInverso()``` que recebe o valor original e o valor invertido e retorna verdadeiro se ambos forem igualmente par ou igualmente ímpar. Retorne falso caso contrário.\n",
    "- No programa principal, peça um valor do usuário e imprima o retorno de ambas as funções.\n"
   ]
  },
  {
   "cell_type": "code",
   "execution_count": null,
   "id": "e4e47d1d",
   "metadata": {},
   "outputs": [],
   "source": [
    "## Crie aqui as funções inverteValor() e verificaInverso()\n",
    "\n",
    "def invertevalor(num1):\n",
    "    invertido = 0\n",
    "    num1 = abs(num1)\n",
    "    while num1 > 0:\n",
    "        num2 = num1 % 10\n",
    "        invertido = invertido * 10 + num2\n",
    "        num1 //= 10\n",
    "    return invertido\n",
    "def verificainverso(original, invertido):\n",
    "    return (original % 2 == invertido % 2)"
   ]
  },
  {
   "cell_type": "code",
   "execution_count": null,
   "id": "a9514e56",
   "metadata": {},
   "outputs": [],
   "source": [
    "## Escreva aqui o programa principal e execute a célula\n",
    "num_usuario = int(input(\"Digite um número inteiro: \"))\n",
    "num_invertido = invertevalor(num_usuario)\n",
    "resultado_verificacao = verificainverso(num_usuario, num_invertido)\n",
    "print(\"Número original: {}\".format(num_usuario))\n",
    "print(\"Número invertido: {}\".format(num_invertido))\n",
    "print(\"Ambos são igualmente pares ou ímpares? {}\".format('Sim' if resultado_verificacao else 'Não'))"
   ]
  },
  {
   "cell_type": "markdown",
   "id": "329be966",
   "metadata": {},
   "source": [
    "### Q5.\n",
    "\n",
    "Você está desenvolvendo um programa para auxiliar em cálculos de geometria básica. Crie as seguintes funções:\n",
    "- A função ```calcula_perimetro_triangulo()``` que recebe três inteiros correspondentes aos lados de um triângulo e retorna o perímetro do triângulo, ou seja, a soma dos seus lados.\n",
    "- A função ```calcula_perimetro_circulo()``` que recebe um inteiro referente ao raio do círculo e retorna o perímetro do círculo, dado por $2 \\pi r$. Use a constante $\\pi$ da biblioteca ```math```.\n",
    "- A função ```calcula_perimetro_retangulo()``` que possui um parâmetro obrigatório ```lado1``` e um opcional ```lado2```, ambos inteiros. Se o valor opcional não for fornecido, significa que se trata de um quadrado. Sua função deve calcular e retornar o perímetro do retângulo, ou seja, a soma de seus lados. \n",
    "    - Para o quadrado, é dado por $4 \\times lado1$\n",
    "    - Para o retângulo é dado por $2 \\times lado1 + 2 \\times lado2$\n",
    "    \n",
    "- No programa principal apresente um menu com as opções disponíveis do seu sistema e uma quarta opção ```Sair```. Solicite ao usuário a opção desejada, solicite as entradas correspondentes à opção escolhida, invoque a respective função e apresente o seu retorno. Seu programa deve retornar ao menu até que o usuário escolha a opção ```Sair```\n",
    "\n",
    "Exemplo de interação:\n",
    "```\n",
    "1 - Calcular perímetro triângulo\n",
    "2 - Calcular perímetro círculo\n",
    "3 - Calcular perímetro retângulo\n",
    "4 - Sair\n",
    "\n",
    "Opção: 1\n",
    "Digite os três lados do triângulo:\n",
    "3\n",
    "4\n",
    "5\n",
    "O perímetro é: 12\n",
    "\n",
    "1 - Calcular perímetro triângulo\n",
    "2 - Calcular perímetro círculo\n",
    "3 - Calcular perímetro retângulo\n",
    "4 - Sair\n",
    "\n",
    "Opção: 3\n",
    "Informe os dois lados do retângulo. Se for um quadrado, digite 0 para o segundo valor:\n",
    "5\n",
    "0\n",
    "O perímetro é: 20\n",
    "\n",
    "1 - Calcular perímetro triângulo\n",
    "2 - Calcular perímetro círculo\n",
    "3 - Calcular perímetro retângulo\n",
    "4 - Sair\n",
    "\n",
    "Opção: 4\n",
    "```"
   ]
  },
  {
   "cell_type": "code",
   "execution_count": null,
   "id": "0793d328",
   "metadata": {},
   "outputs": [],
   "source": [
    "## Crie aqui as funções \n",
    "\n",
    "import math\n",
    "def calcula_perimetro_triangulo(lado1, lado2, lado3):\n",
    "    return lado1 + lado2 + lado3\n",
    "def calcula_perimetro_circulo(raio):\n",
    "    return 2 * math.pi * raio\n",
    "def calcula_perimetro_retangulo(lado1, lado2=None):\n",
    "    if lado2 is None:\n",
    "        return 4 * lado1\n",
    "    else:\n",
    "        return 2 * (lado1 + lado2)"
   ]
  },
  {
   "cell_type": "code",
   "execution_count": null,
   "id": "36269c71",
   "metadata": {},
   "outputs": [],
   "source": [
    "## Escreva aqui o programa principal \n",
    "def exibir_menu():\n",
    "    print(\"Menu:\")\n",
    "    print(\"1. Calcular perímetro do triângulo\")\n",
    "    print(\"2. Calcular perímetro do círculo\")\n",
    "    print(\"3. Calcular perímetro do retângulo\")\n",
    "    print(\"4. Sair\")\n",
    "while True:\n",
    "    exibir_menu()\n",
    "    opcao = input(\"Escolha uma opção: \")\n",
    "    match opcao:\n",
    "        case \"1\":\n",
    "            lado1 = int(input(\"Digite o primeiro lado: \"))\n",
    "            lado2 = int(input(\"Digite o segundo lado: \"))\n",
    "            lado3 = int(input(\"Digite o terceiro lado: \"))\n",
    "            result = calcula_perimetro_triangulo(lado1, lado2, lado3)\n",
    "            print(\"Perímetro do triângulo: {}\".format(result))\n",
    "        case \"2\":\n",
    "            raio = int(input(\"Digite o raio do círculo: \"))\n",
    "            result = calcula_perimetro_circulo(raio)\n",
    "            print(\"Perímetro do círculo: {}\".format(result))\n",
    "        case \"3\":\n",
    "            lado1 = int(input(\"Digite o primeiro lado: \"))\n",
    "            lado2 = input(\"Digite o segundo lado (deixe em branco se for quadrado): \")\n",
    "            if lado2:\n",
    "                lado2 = int(lado2)\n",
    "                result = calcula_perimetro_retangulo(lado1, lado2)\n",
    "            else:\n",
    "                result = calcula_perimetro_retangulo(lado1)\n",
    "            print(\"Perímetro do retângulo: {}\".format(result))\n",
    "        case \"4\":\n",
    "            print(\"Programa encerrado.\")\n",
    "            break\n",
    "        case _:\n",
    "            print(\"Erro!\")"
   ]
  },
  {
   "cell_type": "markdown",
   "id": "3016bcc7",
   "metadata": {},
   "source": [
    "## Funções ```lambda```"
   ]
  },
  {
   "cell_type": "markdown",
   "id": "f9cdb8dd",
   "metadata": {},
   "source": [
    "### Q6.\n",
    "\n",
    "Crie uma função lambda para verificar se um número é par ou ímpar. Em seguida, solicite ao usuário um número indefinidos de valores (até que o usuário digite 0). Para cada valor de entrada, informe se é par ou ímpar.\n",
    "\n",
    "Exemplo de interação:\n",
    "```\n",
    "Digite os valores que deseja verificar a paridade (digite 0 para finalizar a entrada de dados):\n",
    "3\n",
    "ímpar\n",
    "8\n",
    "par\n",
    "12\n",
    "par\n",
    "5\n",
    "ímpar\n",
    "7ímpar\n",
    "```"
   ]
  },
  {
   "cell_type": "code",
   "execution_count": null,
   "id": "e3c31a78",
   "metadata": {},
   "outputs": [],
   "source": [
    "verifica_par =lambda x: \"Par\" if x %2 == 0 else \"Impar\"\n",
    "while True:\n",
    "    num=int(input(\"Digite um número (0 encerra): \"))\n",
    "    if num==0:\n",
    "        print(\"Encerrando...\")\n",
    "        break\n",
    "    result=verifica_par(num)\n",
    "    print(\"{} é {}\".format(num,result))"
   ]
  },
  {
   "cell_type": "markdown",
   "id": "5a87474d",
   "metadata": {},
   "source": [
    "### Q7.\n",
    "\n",
    "Escreva um programa que pergunte ao usuário qual operação ele deseja: maior ou menor.\n",
    "Em seguida leia uma quantidade indefinida de valores do usuário, até que o usuário digite o valor zero.\n",
    "Apresente ao final o maior ou menor dos valores digitados de acordo com a escolha do usuário.\n",
    "\n",
    "**Sua solução deve incluir pelo menos uma função ```lambda```** \n",
    "\n",
    "Exemplo de interação:\n",
    "```\n",
    "Opções: (1) maior ou (2) menor?\n",
    "Opção: 1\n",
    "\n",
    "Digite os valores de entrada. Digite 0 para finalizar a entrada de valores.\n",
    "4\n",
    "12\n",
    "15\n",
    "1\n",
    "0\n",
    "\n",
    "O maior valor é: 15\n",
    "```"
   ]
  },
  {
   "cell_type": "code",
   "execution_count": null,
   "id": "ee3f68ca",
   "metadata": {},
   "outputs": [],
   "source": [
    "## Escreva aqui o programa principal \n",
    "opera = int(input(\"(1) Maior ou (2) Menor: \"))\n",
    "if opera == 1:\n",
    "  operacao = \"Maior\"\n",
    "  result = float(\"-inf\")\n",
    "  funcao_operacao = lambda num, result: num > result\n",
    "else:\n",
    "  operacao = \"Menor\"\n",
    "  result = float(\"inf\")\n",
    "  funcao_operacao = lambda num, result: num < result\n",
    "while True:\n",
    "  num = int(input(\"Digite um número: (0 encerra)\"))\n",
    "  if num == 0:\n",
    "    break\n",
    "  if funcao_operacao(num, result):\n",
    "    result = num\n",
    "print(\"O {} número digitado foi {}\".format(operacao,result))"
   ]
  }
 ],
 "metadata": {
  "kernelspec": {
   "display_name": "Python 3 (ipykernel)",
   "language": "python",
   "name": "python3"
  },
  "language_info": {
   "codemirror_mode": {
    "name": "ipython",
    "version": 3
   },
   "file_extension": ".py",
   "mimetype": "text/x-python",
   "name": "python",
   "nbconvert_exporter": "python",
   "pygments_lexer": "ipython3",
   "version": "3.9.6"
  }
 },
 "nbformat": 4,
 "nbformat_minor": 5
}
